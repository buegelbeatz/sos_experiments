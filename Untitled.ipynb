{
 "cells": [
  {
   "cell_type": "markdown",
   "id": "f90ffc3f-e7eb-489e-8431-7b4f7197b005",
   "metadata": {
    "kernel": "SoS"
   },
   "source": [
    "# Test\n",
    "Workflow"
   ]
  },
  {
   "cell_type": "code",
   "execution_count": 1,
   "id": "2530fead-b73e-44be-b092-cd200e3cee2f",
   "metadata": {
    "kernel": "SoS"
   },
   "outputs": [
    {
     "name": "stderr",
     "output_type": "stream",
     "text": [
      "Failed to retrieve revisions of notebook: Failed to interpolate {repo}/blob/{revision}/{nbpath}: name 'nbpath' is not defined\n"
     ]
    }
   ],
   "source": [
    "%revisions -s -n 10"
   ]
  },
  {
   "cell_type": "code",
   "execution_count": 2,
   "id": "6d605dad-1bc7-431e-9741-bb7bae16ed17",
   "metadata": {
    "kernel": "SoS"
   },
   "outputs": [
    {
     "data": {
      "text/html": [
       "<p class=\"session_section\">SoS</p>\n",
       "<table class=\"session_info\">\n",
       "<tr>\n",
       "<th>SoS Version</th><td><pre>0.25.1</pre></td>\n",
       "</tr>\n",
       "</table>\n"
      ]
     },
     "metadata": {},
     "output_type": "display_data"
    }
   ],
   "source": [
    "%sessioninfo"
   ]
  },
  {
   "cell_type": "code",
   "execution_count": 3,
   "id": "0bd1978f-da8e-4f92-8db9-1b25f1f440d8",
   "metadata": {
    "kernel": "SoS"
   },
   "outputs": [],
   "source": [
    "[global]\n",
    "import sys, os\n",
    "# work directory\n",
    "parameter: wd = path('./.data')\n",
    "# venv directory\n",
    "parameter: venv = path('./.venv')\n",
    "# name of reference genome file\n",
    "parameter: proteins_fasta = path(f'{wd:a}/proteins.fasta')\n",
    "parameter: proteins_source_url = 'https://rest.uniprot.org/uniprotkb/stream?query=%28%28organism_id%3A9606%29+AND+%28reviewed%3Atrue%29+AND+%28length%3A%5B180+TO+200%5D%29%29&compressed=true&format=fasta&fields=accession%2Csequence%2Ccc_subcellular_location'\n"
   ]
  },
  {
   "cell_type": "code",
   "execution_count": 4,
   "id": "0ea7cb6a-a5be-4dee-853c-99aa46cc36b6",
   "metadata": {
    "kernel": "SoS"
   },
   "outputs": [],
   "source": [
    "# Download some uniprot test data\n",
    "[get_proteins_1]\n",
    "output: proteins_fasta\n",
    "download: dest_file = f'{_output}.gz', expand = True\n",
    "    {proteins_source_url}\n",
    "bash: container='python:3.8', volumes=[f'{wd:a}:{wd:a}'], expand = True\n",
    "    gunzip -f {_output}.gz"
   ]
  },
  {
   "cell_type": "code",
   "execution_count": 17,
   "id": "05ba68b3-2ad2-462d-bb28-16e79f616d5c",
   "metadata": {
    "editable": true,
    "kernel": "SoS",
    "slideshow": {
     "slide_type": ""
    },
    "tags": []
   },
   "outputs": [],
   "source": [
    "[get_proteins_2]\n",
    "input: proteins_fasta\n",
    "\n",
    "python: expand = True\n",
    "\n",
    "    from fastaframes import to_df\n",
    "\n",
    "    fasta_df = to_df(data='{_input}')"
   ]
  },
  {
   "cell_type": "code",
   "execution_count": 19,
   "id": "4ea0f265-16ec-4100-9628-c29f30313586",
   "metadata": {
    "kernel": "SoS"
   },
   "outputs": [
    {
     "name": "stdout",
     "output_type": "stream",
     "text": [
      "\u001b[32m[\u001b[0m\u001b[90m#\u001b[0m\u001b[32m.\u001b[0\u001b[32m#\u001b[0m\u001b[32m]\u001b[0m 2 steps processed (1 job completed, 1 job ignored)\n"
     ]
    }
   ],
   "source": [
    "%sosrun  get_proteins -v0\n"
   ]
  },
  {
   "cell_type": "code",
   "execution_count": 20,
   "id": "13256efa-1d5c-4ab4-8c4d-1f6e1e9cbc11",
   "metadata": {
    "kernel": "SoS"
   },
   "outputs": [
    {
     "data": {
      "text/html": [
       "<div class=\"sos_hint\">> fasta_df: None</div>"
      ],
      "text/plain": [
       ">>> fasta_df:\n"
      ]
     },
     "metadata": {},
     "output_type": "display_data"
    },
    {
     "name": "stdout",
     "output_type": "stream",
     "text": [
      "Unknown variable fasta_df"
     ]
    }
   ],
   "source": [
    "%preview fasta_df -n"
   ]
  },
  {
   "cell_type": "code",
   "execution_count": 11,
   "id": "4ad53a90-afd8-448e-9bc9-9136466f3ece",
   "metadata": {
    "kernel": "SoS"
   },
   "outputs": [
    {
     "data": {
      "text/html": [
       "<div class=\"sos_hint\">> report.html: None</div>"
      ],
      "text/plain": [
       ">>> report.html:\n"
      ]
     },
     "metadata": {},
     "output_type": "display_data"
    },
    {
     "name": "stdout",
     "output_type": "stream",
     "text": [
      "Unknown variable report.html"
     ]
    }
   ],
   "source": [
    "%preview report.html -n"
   ]
  },
  {
   "cell_type": "code",
   "execution_count": null,
   "id": "0b0dcfb5-0a23-4d47-beaa-33ff2fbc2ff2",
   "metadata": {
    "kernel": "SoS"
   },
   "outputs": [],
   "source": []
  },
  {
   "cell_type": "code",
   "execution_count": null,
   "id": "12bb8b28-79b8-4b58-8fd6-4136370a7e46",
   "metadata": {
    "kernel": "SoS"
   },
   "outputs": [],
   "source": []
  }
 ],
 "metadata": {
  "kernelspec": {
   "display_name": "SoS",
   "language": "sos",
   "name": "sos"
  },
  "language_info": {
   "codemirror_mode": "sos",
   "file_extension": ".sos",
   "mimetype": "text/x-sos",
   "name": "sos",
   "nbconvert_exporter": "sos_notebook.converter.SoS_Exporter",
   "pygments_lexer": "sos"
  },
  "sos": {
   "kernels": [
    [
     "SoS",
     "sos",
     "",
     ""
    ]
   ],
   "version": ""
  }
 },
 "nbformat": 4,
 "nbformat_minor": 5
}
