{
 "cells": [
  {
   "cell_type": "markdown",
   "id": "f90ffc3f-e7eb-489e-8431-7b4f7197b005",
   "metadata": {
    "kernel": "SoS"
   },
   "source": [
    "# Test\n",
    "Workflow"
   ]
  },
  {
   "cell_type": "code",
   "execution_count": 20,
   "id": "2530fead-b73e-44be-b092-cd200e3cee2f",
   "metadata": {
    "kernel": "SoS"
   },
   "outputs": [
    {
     "name": "stderr",
     "output_type": "stream",
     "text": [
      "Failed to retrieve revisions of notebook: Command '['git', 'log', '-n', '10', '--date=short', '--pretty=%H!%cN!%cd!%s', '--', 'Untitled.ipynb']' returned non-zero exit status 128.\n"
     ]
    }
   ],
   "source": [
    "%revisions -s -n 10"
   ]
  },
  {
   "cell_type": "code",
   "execution_count": 36,
   "id": "0bd1978f-da8e-4f92-8db9-1b25f1f440d8",
   "metadata": {
    "kernel": "SoS"
   },
   "outputs": [],
   "source": [
    "[global]\n",
    "import sys, os\n",
    "# a file containing sample names\n",
    "parameter: samples = path() \n",
    "# work directory\n",
    "parameter: wd = path('./.data')\n",
    "# name of reference genome file\n",
    "parameter: proteins_fasta = path(f'{wd:a}/proteins.fasta')\n",
    "parameter: proteins_source_url = 'https://rest.uniprot.org/uniprotkb/stream?query=%28%28organism_id%3A9606%29+AND+%28reviewed%3Atrue%29+AND+%28length%3A%5B180+TO+200%5D%29%29&compressed=true&format=fasta&fields=accession%2Csequence%2Ccc_subcellular_location'\n"
   ]
  },
  {
   "cell_type": "code",
   "execution_count": 37,
   "id": "0ea7cb6a-a5be-4dee-853c-99aa46cc36b6",
   "metadata": {
    "kernel": "SoS"
   },
   "outputs": [],
   "source": [
    "# Download some uniprot test data\n",
    "[get_proteins_1]\n",
    "output: proteins_fasta\n",
    "download: dest_file = f'{_output}.gz', expand = True\n",
    "    {proteins_source_url}\n",
    "bash: container='python:3.8', volumes=[f'{wd:a}:{wd:a}'], expand = True\n",
    "    gunzip -f {_output}.gz"
   ]
  },
  {
   "cell_type": "code",
   "execution_count": 38,
   "id": "98aebc68-96d4-416e-aef0-6487c8150e29",
   "metadata": {
    "kernel": "SoS"
   },
   "outputs": [],
   "source": [
    "[get_proteins_2]\n",
    "input: proteins_fasta\n",
    "bash: container='python:3.8', volumes=[f'{wd:a}:{wd:a}'], expand = True\n",
    "    cat {_input} | wc -l"
   ]
  },
  {
   "cell_type": "code",
   "execution_count": 42,
   "id": "05ba68b3-2ad2-462d-bb28-16e79f616d5c",
   "metadata": {
    "kernel": "SoS"
   },
   "outputs": [],
   "source": [
    "[get_proteins_3]\n",
    "input: proteins_fasta\n",
    "\n",
    "python: container='python:3.8', volumes=[f'{wd:a}:{wd:a}'], expand = True\n",
    "\n",
    "    from Bio import SeqIO\n",
    "    import pandas as pd\n",
    "    \n",
    "    # Read FASTA file and extract sequence information\n",
    "    sequences = []\n",
    "    with open(f\"{_input}\") as handle:\n",
    "        for record in SeqIO.parse(handle, \"fasta\"):\n",
    "            if len(record.seq) < 100:\n",
    "                sequences.append({\"ID\": str(record.id), \"Sequence\": str(record.seq)})\n",
    "    \n",
    "    # Create DataFrame\n",
    "    df = pd.DataFrame(sequences)\n",
    "    \n",
    "    # Display DataFrame\n",
    "    df"
   ]
  },
  {
   "cell_type": "code",
   "execution_count": 43,
   "id": "4ea0f265-16ec-4100-9628-c29f30313586",
   "metadata": {
    "kernel": "SoS"
   },
   "outputs": [
    {
     "name": "stdout",
     "output_type": "stream",
     "text": [
      "\u001b[32m[\u001b[0m\u001b[90m#\u001b[0m\u001b[97m.\u001b[0m\u001b[97m.\u001b[0m\u001b[97m.\u001b[0m\u001b[97m.\u001b[0m\u001b[97m.\u001b\u001b[32m.\u001b[0\u001b[32m#\u001b[0m\u001b[97m.\u001b[0m\u001b[97m.\u001b[0m\u001b[97m.\u001b\u001b[32m]\u001b[0m Failed with 3 steps processed (2 jobs completed, 1 job ignored)\n",
      "\u001b[91mERROR\u001b[0m: \u001b[91m[get_proteins_3]: [0]: \n",
      "---------------------------------------------------------------------------\n",
      "ValueError                                Traceback (most recent call last)\n",
      "script_3623484878788881650 in <module>\n",
      "          for record in SeqIO.parse(handle, \"fasta\"):\n",
      "              if len(record.seq) < 100:\n",
      "---->             sequences.append({\"ID\": str(record.id), \"Sequence\": str(record.seq)})\n",
      "      \n",
      "      # Create DataFrame\n",
      "      df = pd.DataFrame(sequences)\n",
      "\n",
      "ValueError: Invalid format specifier ' str(record.id), \"Sequence\": str(record.seq)' for object of type 'str'\u001b[0m\n"
     ]
    },
    {
     "ename": "RuntimeError",
     "evalue": "Workflow exited with code 1",
     "execution_count": 43,
     "output_type": "error",
     "status": "error",
     "traceback": [
      "\u001b[91mWorkflow exited with code 1\u001b[0m"
     ]
    }
   ],
   "source": [
    "%sosrun  get_proteins -v0\n"
   ]
  },
  {
   "cell_type": "code",
   "execution_count": 24,
   "id": "4ad53a90-afd8-448e-9bc9-9136466f3ece",
   "metadata": {
    "kernel": "SoS"
   },
   "outputs": [
    {
     "data": {
      "text/html": [
       "<div class=\"sos_hint\">> report.html: None</div>"
      ],
      "text/plain": [
       ">>> report.html:\n"
      ]
     },
     "metadata": {},
     "output_type": "display_data"
    },
    {
     "name": "stdout",
     "output_type": "stream",
     "text": [
      "Unknown variable report.html"
     ]
    }
   ],
   "source": [
    "%preview report.html -n"
   ]
  }
 ],
 "metadata": {
  "kernelspec": {
   "display_name": "SoS",
   "language": "sos",
   "name": "sos"
  },
  "language_info": {
   "codemirror_mode": "sos",
   "file_extension": ".sos",
   "mimetype": "text/x-sos",
   "name": "sos",
   "nbconvert_exporter": "sos_notebook.converter.SoS_Exporter",
   "pygments_lexer": "sos"
  },
  "sos": {
   "kernels": [
    [
     "SoS",
     "sos",
     "",
     ""
    ]
   ],
   "version": ""
  }
 },
 "nbformat": 4,
 "nbformat_minor": 5
}
